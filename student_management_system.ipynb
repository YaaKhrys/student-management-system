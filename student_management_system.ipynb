{
 "cells": [
  {
   "cell_type": "markdown",
   "id": "534574bc-31bb-477d-96f1-06e66cd69d28",
   "metadata": {},
   "source": [
    "## 🖥️ EduTech Student Management System \n",
    "**August Final Project - Proficiency in Python**\n",
    "by Christabell Owusu\n",
    "\n",
    "\n",
    "\n",
    "Welcome! This notebook serves as a solution guide to EdTech Solution's **Student Management System** built with Python.\n",
    "\n",
    "<br>\n",
    " \n",
    "##### ☑️System Capabilities \n",
    "\n",
    "- Secure login system with session logging\n",
    "- Add, view, search, and update student records\n",
    "- Store all data in text files\n",
    "- Generate basic student reports\n",
    "- User activity logging\n",
    "<br>\n",
    "\n",
    "##### 👩‍💻Technical Expertise\n",
    "\n",
    "Developing this project leveraged hands-on experience with:\n",
    "\n",
    "- User authentication and file handling\n",
    "- CRUD operations (Create, Read, Update, Delete)\n",
    "- Menu-driven interfaces\n",
    "- Data validation and search functionality\n",
    "- System-level operations using built-in Python modules\n",
    "\n",
    "\n",
    "\n"
   ]
  },
  {
   "cell_type": "markdown",
   "id": "5dc0523e-a615-49fb-85a6-640db27daab8",
   "metadata": {},
   "source": [
    "#### 📖 Table of Contents\n",
    "\n",
    "1. [Project Setup](#project-setup)  \n",
    "2. [Authentication System](#authentication-system)  \n",
    "3. [Student Data Management (CRUD)](#student-data-management-crud)  \n",
    "4. [Report Generation](#report-generation)  \n",
    "5. [Main Program](#main-program)  \n"
   ]
  },
  {
   "cell_type": "markdown",
   "id": "24831415-d37a-4b88-8248-3149fa1160b6",
   "metadata": {},
   "source": [
    "#### 📦 Project Setup"
   ]
  },
  {
   "cell_type": "code",
   "execution_count": 1,
   "id": "9560d4e6-ecc9-410a-afdf-111ce47224a6",
   "metadata": {},
   "outputs": [],
   "source": [
    "# Importing the required modules\n",
    "import os #To enable interacting with the operating system \n",
    "import getpass #To secure user input\n",
    "import datetime #To work with dates and times\n",
    "\n",
    "\n",
    "# Store Files Path\n",
    "# -------------------------------\n",
    "# File Paths\n",
    "# -------------------------------\n",
    "USER_FILE = \"user.txt\"\n",
    "STUDENT_FILE = \"students.txt\"\n",
    "LOG_FILE = \"activity_log.txt\""
   ]
  },
  {
   "cell_type": "markdown",
   "id": "b15bc211-3fbf-4bc1-9198-e188032072cf",
   "metadata": {},
   "source": [
    "#### 🛡️ Authentication System\n",
    "\n",
    "The system secures access by checking login details from a file, allows new users to register, and logs succesful and failed login attempts."
   ]
  },
  {
   "cell_type": "code",
   "execution_count": 3,
   "id": "aff6f95f-54be-40fe-becf-52ba3c229859",
   "metadata": {},
   "outputs": [],
   "source": [
    "# Log user's functions\n",
    "def log_activity(username, action):\n",
    "    \"\"\"Log user actions with timestamp\"\"\"\n",
    "    with open(LOG_FILE, \"a\") as log:\n",
    "        log.write(f\"{datetime.datetime.now()} - {username} - {action}\\n\")\n",
    "\n",
    "\n",
    "# Load user's functions\n",
    "def load_users():\n",
    "    \"\"\"Load users from file into a dictionary\"\"\" \n",
    "    users = {} \n",
    "    if os.path.exists(USER_FILE): \n",
    "        with open(USER_FILE, \"r\") as f: \n",
    "            for line in f: \n",
    "                if \",\" in line: \n",
    "                    uname, pwd = line.strip().split(\",\", 1) \n",
    "                    users[uname] = pwd \n",
    "                    \n",
    "    return users\n",
    "\n",
    "# Save user function\n",
    "def save_user(username, password):\n",
    "    \"\"\"Save new user to the file\"\"\" \n",
    "    with open(USER_FILE, \"a\") as f: \n",
    "        f.write(f\"{username},{password}\\n\")\n",
    "\n",
    "# Authenticate user function\n",
    "def authenticate(): \n",
    "    \"\"\"Authenticate user login\"\"\" \n",
    "    users = load_users() \n",
    "    username = input(\"Enter Username: \") \n",
    "    password = getpass.getpass(\"Enter Password: \") \n",
    "    \n",
    "    if username in users and users[username] == password: \n",
    "        log_activity(username, \"Logged in\") \n",
    "        print(\"\\n✅ Login Successful!\\n\") \n",
    "        return username \n",
    "    else: \n",
    "        print(\"\\n❌ Invalid credentials!\\n\") \n",
    "        return None"
   ]
  },
  {
   "cell_type": "markdown",
   "id": "fde0f43a-c7c8-4c66-a3cf-2cd2b6207778",
   "metadata": {},
   "source": [
    "#### 🎓 Student Data Management (CRUD)\n",
    "\n",
    "The system manages student records stored in a file, allowing users to add, view, search, update, and delete entries for accurate and organised data handling."
   ]
  },
  {
   "cell_type": "code",
   "execution_count": 13,
   "id": "0ec78e9b-ca5d-454a-bca2-b74d5a26cde9",
   "metadata": {},
   "outputs": [],
   "source": [
    "# Add student function\n",
    "def add_student(username): \n",
    "    roll = input(\"Enter Roll Number: \") \n",
    "    name = input(\"Enter Name: \") \n",
    "    grade = input(\"Enter Grade: \") \n",
    "    \n",
    "    with open(STUDENT_FILE, \"a\") as f: \n",
    "        f.write(f\"{roll},{name},{grade}\\n\") \n",
    "        \n",
    "    log_activity(username, f\"Added student {roll}\") \n",
    "    print(\"✅ Student added successfully!\")\n",
    "\n",
    "\n",
    "# View student function\n",
    "def view_students(): \n",
    "    if not os.path.exists(STUDENT_FILE): \n",
    "        print(\"No records found.\") \n",
    "        return \n",
    "        \n",
    "    with open(STUDENT_FILE, \"r\") as f: \n",
    "        print(\"\\n--- Student Records ---\") \n",
    "        for line in f: \n",
    "            roll, name, grade = line.strip().split(\",\") \n",
    "            print(f\"Roll: {roll} | Name: {name} | Grade: {grade}\")\n",
    "\n",
    "\n",
    "# Search student function\n",
    "def search_student(): \n",
    "    roll_no = input(\"Enter Roll Number to search: \") \n",
    "    found = False \n",
    "    \n",
    "    if os.path.exists(STUDENT_FILE): \n",
    "        with open(STUDENT_FILE, \"r\") as f: \n",
    "            for line in f: \n",
    "                # Skip empty or invalid lines \n",
    "                parts = line.strip().split(\",\") \n",
    "                if len(parts) != 3: \n",
    "                    continue \n",
    "                roll, name, grade = parts \n",
    "                if roll == roll_no: \n",
    "                    print(f\"✅ Found: Roll: {roll} | Name: {name} | Grade: {grade}\") \n",
    "                    found = True\n",
    "                    break\n",
    "\n",
    "\n",
    "# Update student function\n",
    "def update_student(username): \n",
    "    roll_no = input(\"Enter Roll Number to update: \") \n",
    "    students = [] \n",
    "    updated = False \n",
    "    \n",
    "    if os.path.exists(STUDENT_FILE): \n",
    "        with open(STUDENT_FILE, \"r\") as f: \n",
    "            students = f.readlines() \n",
    "            \n",
    "        with open(STUDENT_FILE, \"w\") as f: \n",
    "            for line in students: \n",
    "                roll, name, grade = line.strip().split(\",\") \n",
    "                if roll == roll_no: \n",
    "                    print(f\"Current Data → Name: {name}, Grade: {grade}\") \n",
    "                    new_name = input(\"Enter new Name: \") \n",
    "                    new_grade = input(\"Enter new Grade: \") \n",
    "                    f.write(f\"{roll},{new_name},{new_grade}\\n\") \n",
    "                    updated = True \n",
    "                    log_activity(username, f\"Updated student {roll}\") \n",
    "            else: \n",
    "                f.write(line) \n",
    "                \n",
    "    if updated: \n",
    "        print(\"✅ Student record updated.\") \n",
    "    else: \n",
    "        print(\"❌ Student not found.\")\n",
    "\n",
    "\n",
    "# Delete student function\n",
    "def delete_student(username): \n",
    "    roll_no = input(\"Enter Roll Number to delete: \") \n",
    "    students = [] \n",
    "    deleted = False \n",
    "    \n",
    "    if os.path.exists(STUDENT_FILE): \n",
    "        with open(STUDENT_FILE, \"r\") as f: \n",
    "            students = f.readlines() \n",
    "            \n",
    "        with open(STUDENT_FILE, \"w\") as f: \n",
    "            for line in students: \n",
    "                #Skip empty or invalid lines \n",
    "                parts = line.strip().split(\",\") \n",
    "                if len(parts) != 3: \n",
    "                    f.write(line) #keep invalid lines unchanged \n",
    "                    continue \n",
    "                \n",
    "                roll, name, grade = parts\n",
    "                if roll == roll_no: \n",
    "                    deleted = True \n",
    "                    #Log deletion \n",
    "                    log_activity(username, f\"Deleted student {roll}\") \n",
    "                else: \n",
    "                    f.write(line) \n",
    "                    \n",
    "    if deleted: \n",
    "        print(\"✅ Student record deleted.\") \n",
    "    else: \n",
    "        print(\"❌ Student not found.\")"
   ]
  },
  {
   "cell_type": "markdown",
   "id": "b8d62b71-7527-4a0c-a88e-17c5288f7a8c",
   "metadata": {},
   "source": [
    "#### 📄 Report Generation\n",
    "\n",
    "The system uses the stored student records to generate basic reports."
   ]
  },
  {
   "cell_type": "code",
   "execution_count": 14,
   "id": "084a3cf1-0b55-419e-bd35-6f52f927e643",
   "metadata": {},
   "outputs": [],
   "source": [
    "# Generate report function\n",
    "def generate_report(): \n",
    "    if not os.path.exists(STUDENT_FILE): \n",
    "        print(\"No records available.\") \n",
    "        return \n",
    "        \n",
    "        total = 0 \n",
    "        grades = {} \n",
    "        with open(STUDENT_FILE, \"r\") as f: \n",
    "            for line in f: \n",
    "                roll, name, grade = line.strip().split(\",\") \n",
    "                total += 1 \n",
    "                grades[grade] = grades.get(grade, 0) + 1 \n",
    "                \n",
    "        print(\"\\n📊 Student Report\") \n",
    "        print(f\"Total Students: {total}\") \n",
    "        for g, count in grades.items(): \n",
    "            print(f\"Grade {g}: {count} student(s)\")"
   ]
  },
  {
   "cell_type": "markdown",
   "id": "fc2c792e-7b15-42cb-b591-f2c7a616292c",
   "metadata": {},
   "source": [
    "#### 📄 Main Program\n",
    "\n",
    "The function removes events by title(case-sensitive), updates the records, and displays a confirmation messagewhether or not a match is found."
   ]
  },
  {
   "cell_type": "code",
   "execution_count": 15,
   "id": "5059da24-effb-441e-af5e-b02587f3ea4f",
   "metadata": {},
   "outputs": [
    {
     "name": "stdout",
     "output_type": "stream",
     "text": [
      "===== Student Management System =====\n",
      "No users found. Create an Admin account.\n"
     ]
    },
    {
     "name": "stdin",
     "output_type": "stream",
     "text": [
      "Set Admin Username:  EduTech System Admin\n",
      "Set Admin Password:  ········\n",
      "Enter Username:  Bella\n",
      "Enter Password:  ········\n"
     ]
    },
    {
     "name": "stdout",
     "output_type": "stream",
     "text": [
      "\n",
      "❌ Invalid credentials!\n",
      "\n"
     ]
    },
    {
     "name": "stdin",
     "output_type": "stream",
     "text": [
      "Enter Username:  EduTech System Admin\n",
      "Enter Password:  ········\n"
     ]
    },
    {
     "name": "stdout",
     "output_type": "stream",
     "text": [
      "\n",
      "✅ Login Successful!\n",
      "\n",
      "\n",
      "--- Main Menu ---\n",
      "1. Add Student\n",
      "2. View All Students\n",
      "3. Search Student\n",
      "4. Update Student\n",
      "5. Delete Student\n",
      "6. Generate Report\n",
      "7. Logout & Exit\n"
     ]
    },
    {
     "name": "stdin",
     "output_type": "stream",
     "text": [
      "Enter choice:  1\n",
      "Enter Roll Number:  1\n",
      "Enter Name:  Bella Owusu\n",
      "Enter Grade:  A\n"
     ]
    },
    {
     "name": "stdout",
     "output_type": "stream",
     "text": [
      "✅ Student added successfully!\n",
      "\n",
      "--- Main Menu ---\n",
      "1. Add Student\n",
      "2. View All Students\n",
      "3. Search Student\n",
      "4. Update Student\n",
      "5. Delete Student\n",
      "6. Generate Report\n",
      "7. Logout & Exit\n"
     ]
    },
    {
     "name": "stdin",
     "output_type": "stream",
     "text": [
      "Enter choice:  1\n",
      "Enter Roll Number:  2\n",
      "Enter Name:  Kevin Randolf\n",
      "Enter Grade:  C\n"
     ]
    },
    {
     "name": "stdout",
     "output_type": "stream",
     "text": [
      "✅ Student added successfully!\n",
      "\n",
      "--- Main Menu ---\n",
      "1. Add Student\n",
      "2. View All Students\n",
      "3. Search Student\n",
      "4. Update Student\n",
      "5. Delete Student\n",
      "6. Generate Report\n",
      "7. Logout & Exit\n"
     ]
    },
    {
     "name": "stdin",
     "output_type": "stream",
     "text": [
      "Enter choice:  1\n",
      "Enter Roll Number:  3\n",
      "Enter Name:  Susan Burke\n",
      "Enter Grade:  B\n"
     ]
    },
    {
     "name": "stdout",
     "output_type": "stream",
     "text": [
      "✅ Student added successfully!\n",
      "\n",
      "--- Main Menu ---\n",
      "1. Add Student\n",
      "2. View All Students\n",
      "3. Search Student\n",
      "4. Update Student\n",
      "5. Delete Student\n",
      "6. Generate Report\n",
      "7. Logout & Exit\n"
     ]
    },
    {
     "name": "stdin",
     "output_type": "stream",
     "text": [
      "Enter choice:  2\n"
     ]
    },
    {
     "name": "stdout",
     "output_type": "stream",
     "text": [
      "\n",
      "--- Student Records ---\n",
      "Roll: 1 | Name: Bella Owusu | Grade: A\n",
      "Roll: 2 | Name: Kevin Randolf | Grade: C\n",
      "Roll: 3 | Name: Susan Burke | Grade: B\n",
      "\n",
      "--- Main Menu ---\n",
      "1. Add Student\n",
      "2. View All Students\n",
      "3. Search Student\n",
      "4. Update Student\n",
      "5. Delete Student\n",
      "6. Generate Report\n",
      "7. Logout & Exit\n"
     ]
    },
    {
     "name": "stdin",
     "output_type": "stream",
     "text": [
      "Enter choice:  3\n",
      "Enter Roll Number to search:  1\n"
     ]
    },
    {
     "name": "stdout",
     "output_type": "stream",
     "text": [
      "✅ Found: Roll: 1 | Name: Bella Owusu | Grade: A\n",
      "\n",
      "--- Main Menu ---\n",
      "1. Add Student\n",
      "2. View All Students\n",
      "3. Search Student\n",
      "4. Update Student\n",
      "5. Delete Student\n",
      "6. Generate Report\n",
      "7. Logout & Exit\n"
     ]
    },
    {
     "name": "stdin",
     "output_type": "stream",
     "text": [
      "Enter choice:  3\n",
      "Enter Roll Number to search:  5\n"
     ]
    },
    {
     "name": "stdout",
     "output_type": "stream",
     "text": [
      "\n",
      "--- Main Menu ---\n",
      "1. Add Student\n",
      "2. View All Students\n",
      "3. Search Student\n",
      "4. Update Student\n",
      "5. Delete Student\n",
      "6. Generate Report\n",
      "7. Logout & Exit\n"
     ]
    },
    {
     "name": "stdin",
     "output_type": "stream",
     "text": [
      "Enter choice:  1\n",
      "Enter Roll Number:  4\n",
      "Enter Name:  Kirk Dons\n",
      "Enter Grade:  B\n"
     ]
    },
    {
     "name": "stdout",
     "output_type": "stream",
     "text": [
      "✅ Student added successfully!\n",
      "\n",
      "--- Main Menu ---\n",
      "1. Add Student\n",
      "2. View All Students\n",
      "3. Search Student\n",
      "4. Update Student\n",
      "5. Delete Student\n",
      "6. Generate Report\n",
      "7. Logout & Exit\n"
     ]
    },
    {
     "name": "stdin",
     "output_type": "stream",
     "text": [
      "Enter choice:  4\n",
      "Enter Roll Number to update:  2\n"
     ]
    },
    {
     "name": "stdout",
     "output_type": "stream",
     "text": [
      "Current Data → Name: Kevin Randolf, Grade: C\n"
     ]
    },
    {
     "name": "stdin",
     "output_type": "stream",
     "text": [
      "Enter new Name:  Kevin Randolf\n",
      "Enter new Grade:  A\n"
     ]
    },
    {
     "name": "stdout",
     "output_type": "stream",
     "text": [
      "✅ Student record updated.\n",
      "\n",
      "--- Main Menu ---\n",
      "1. Add Student\n",
      "2. View All Students\n",
      "3. Search Student\n",
      "4. Update Student\n",
      "5. Delete Student\n",
      "6. Generate Report\n",
      "7. Logout & Exit\n"
     ]
    },
    {
     "name": "stdin",
     "output_type": "stream",
     "text": [
      "Enter choice:  2\n"
     ]
    },
    {
     "name": "stdout",
     "output_type": "stream",
     "text": [
      "\n",
      "--- Student Records ---\n",
      "Roll: 2 | Name: Kevin Randolf | Grade: A\n",
      "Roll: 4 | Name: Kirk Dons | Grade: B\n",
      "\n",
      "--- Main Menu ---\n",
      "1. Add Student\n",
      "2. View All Students\n",
      "3. Search Student\n",
      "4. Update Student\n",
      "5. Delete Student\n",
      "6. Generate Report\n",
      "7. Logout & Exit\n"
     ]
    },
    {
     "name": "stdin",
     "output_type": "stream",
     "text": [
      "Enter choice:  5\n",
      "Enter Roll Number to delete:  4\n"
     ]
    },
    {
     "name": "stdout",
     "output_type": "stream",
     "text": [
      "✅ Student record deleted.\n",
      "\n",
      "--- Main Menu ---\n",
      "1. Add Student\n",
      "2. View All Students\n",
      "3. Search Student\n",
      "4. Update Student\n",
      "5. Delete Student\n",
      "6. Generate Report\n",
      "7. Logout & Exit\n"
     ]
    },
    {
     "name": "stdin",
     "output_type": "stream",
     "text": [
      "Enter choice:  6\n"
     ]
    },
    {
     "name": "stdout",
     "output_type": "stream",
     "text": [
      "\n",
      "--- Main Menu ---\n",
      "1. Add Student\n",
      "2. View All Students\n",
      "3. Search Student\n",
      "4. Update Student\n",
      "5. Delete Student\n",
      "6. Generate Report\n",
      "7. Logout & Exit\n"
     ]
    },
    {
     "name": "stdin",
     "output_type": "stream",
     "text": [
      "Enter choice:  6\n"
     ]
    },
    {
     "name": "stdout",
     "output_type": "stream",
     "text": [
      "\n",
      "--- Main Menu ---\n",
      "1. Add Student\n",
      "2. View All Students\n",
      "3. Search Student\n",
      "4. Update Student\n",
      "5. Delete Student\n",
      "6. Generate Report\n",
      "7. Logout & Exit\n"
     ]
    },
    {
     "name": "stdin",
     "output_type": "stream",
     "text": [
      "Enter choice:  7\n"
     ]
    },
    {
     "name": "stdout",
     "output_type": "stream",
     "text": [
      "👋 Goodbye!\n"
     ]
    }
   ],
   "source": [
    "def main(): \n",
    "    print(\"===== Student Management System =====\") \n",
    "    \n",
    "    \n",
    "    # Ensure admin user exists \n",
    "    if not os.path.exists(USER_FILE): \n",
    "        print(\"No users found. Create an Admin account.\") \n",
    "        uname = input(\"Set Admin Username: \") \n",
    "        pwd = getpass.getpass(\"Set Admin Password: \") \n",
    "        save_user(uname, pwd) \n",
    "        \n",
    "    username = None \n",
    "    while not username: \n",
    "        username = authenticate() \n",
    "        \n",
    "        \n",
    "    # Menu \n",
    "    while True: \n",
    "        print(\"\\n--- Main Menu ---\") \n",
    "        print(\"1. Add Student\") \n",
    "        print(\"2. View All Students\") \n",
    "        print(\"3. Search Student\") \n",
    "        print(\"4. Update Student\") \n",
    "        print(\"5. Delete Student\") \n",
    "        print(\"6. Generate Report\") \n",
    "        print(\"7. Logout & Exit\") \n",
    "        \n",
    "        \n",
    "        choice = input(\"Enter choice: \")\n",
    "        if choice == \"1\": \n",
    "            add_student(username) \n",
    "        elif choice == \"2\": \n",
    "            view_students() \n",
    "        elif choice == \"3\": \n",
    "            search_student() \n",
    "        elif choice == \"4\": \n",
    "            update_student(username) \n",
    "        elif choice == \"5\": \n",
    "            delete_student(username) \n",
    "        elif choice == \"6\": \n",
    "            generate_report() \n",
    "        elif choice == \"7\": \n",
    "            log_activity(username, \"Logged out\") \n",
    "            print(\"👋 Goodbye!\") \n",
    "            break \n",
    "        else: \n",
    "            print(\"❌ Invalid choice! Please try again.\")\n",
    "\n",
    "\n",
    "if __name__ == \"__main__\": \n",
    "    main()"
   ]
  }
 ],
 "metadata": {
  "kernelspec": {
   "display_name": "Python 3 (ipykernel)",
   "language": "python",
   "name": "python3"
  },
  "language_info": {
   "codemirror_mode": {
    "name": "ipython",
    "version": 3
   },
   "file_extension": ".py",
   "mimetype": "text/x-python",
   "name": "python",
   "nbconvert_exporter": "python",
   "pygments_lexer": "ipython3",
   "version": "3.13.5"
  }
 },
 "nbformat": 4,
 "nbformat_minor": 5
}
